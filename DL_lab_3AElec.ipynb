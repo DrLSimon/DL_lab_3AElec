{
  "nbformat": 4,
  "nbformat_minor": 0,
  "metadata": {
    "colab": {
      "name": "DL_lab_3AElec.ipynb",
      "provenance": [],
      "collapsed_sections": [
        "s_r70CkXxnxG",
        "OPnm4wTvv2q9",
        "KqS2tdb7v2q-",
        "A6F6wMHpVlq4",
        "NiRuJPJEpTbT",
        "s3IqanhvnTT1",
        "gQF2EGB482Rh",
        "pd9O0g-SnTT3",
        "7JTLBcHKnTT4",
        "IwThOdeCnTT4",
        "sz9uHPJHnTT4",
        "ozXcGLatnTT5",
        "R6Q0ctuCnTT6",
        "Kt2US8ZVnTT7",
        "_GEW6PaCnTT7",
        "NchjNa8VnTT7",
        "eFfOxwMjnTT8",
        "aRI-NwO0qmXV"
      ],
      "authorship_tag": "ABX9TyNLU8qvTzPhYkPM+RqFJndB",
      "include_colab_link": true
    },
    "kernelspec": {
      "name": "python3",
      "display_name": "Python 3"
    },
    "language_info": {
      "name": "python"
    },
    "accelerator": "GPU"
  },
  "cells": [
    {
      "cell_type": "markdown",
      "metadata": {
        "id": "view-in-github",
        "colab_type": "text"
      },
      "source": [
        "<a href=\"https://colab.research.google.com/github/DrLSimon/DL_lab_3AElec/blob/main/DL_lab_3AElec.ipynb\" target=\"_parent\"><img src=\"https://colab.research.google.com/assets/colab-badge.svg\" alt=\"Open In Colab\"/></a>"
      ]
    },
    {
      "cell_type": "code",
      "execution_count": null,
      "metadata": {
        "id": "rJ_YHQEUvG7l"
      },
      "outputs": [],
      "source": [
        "%matplotlib inline"
      ]
    },
    {
      "cell_type": "markdown",
      "source": [
        "-------------------------\n",
        "Tensors\n",
        "==========================\n",
        "\n",
        "Tensors are a specialized data structure that are very similar to arrays and matrices.\n",
        "In PyTorch, we use tensors to encode the inputs and outputs of a model, as well as the model’s parameters.\n",
        "\n",
        "Tensors are similar to `NumPy’s <https://numpy.org/>`_ ndarrays, except that tensors can run on GPUs or other hardware accelerators. In fact, tensors and\n",
        "NumPy arrays can often share the same underlying memory, eliminating the need to copy data (see `bridge-to-np-label`). Tensors\n",
        "are also optimized for automatic differentiation (we'll see more about that later in the `Autograd <autogradqs_tutorial.html>`__\n",
        "section). If you’re familiar with ndarrays, you’ll be right at home with the Tensor API. If not, follow along!\n"
      ],
      "metadata": {
        "id": "7aiByk-LwUs_"
      }
    },
    {
      "cell_type": "code",
      "source": [
        "import torch\n",
        "import numpy as np"
      ],
      "metadata": {
        "id": "T1QV_Sv5wXYB"
      },
      "execution_count": null,
      "outputs": []
    },
    {
      "cell_type": "markdown",
      "source": [
        "## Initializing a Tensor\n",
        "\n",
        "Tensors can be initialized in various ways. Take a look at the following examples:\n",
        "\n",
        "**Directly from data**\n",
        "\n",
        "Tensors can be created directly from data. The data type is automatically inferred.\n",
        "\n"
      ],
      "metadata": {
        "id": "s_r70CkXxnxG"
      }
    },
    {
      "cell_type": "code",
      "execution_count": null,
      "metadata": {
        "id": "JeStpIcov2q6"
      },
      "outputs": [],
      "source": [
        "data = [[1, 2],[3, 4]]\n",
        "x_data = torch.tensor(data)"
      ]
    },
    {
      "cell_type": "markdown",
      "metadata": {
        "id": "17DYK-Hxv2q6"
      },
      "source": [
        "**From a NumPy array**\n",
        "\n",
        "Tensors can be created from NumPy arrays (and vice versa - see `bridge-to-np-label`).\n",
        "\n"
      ]
    },
    {
      "cell_type": "code",
      "execution_count": null,
      "metadata": {
        "id": "YkA4_Rtyv2q6"
      },
      "outputs": [],
      "source": [
        "np_array = np.array(data)\n",
        "x_np = torch.from_numpy(np_array)"
      ]
    },
    {
      "cell_type": "markdown",
      "metadata": {
        "id": "RIsm-igzv2q7"
      },
      "source": [
        "**From another tensor:**\n",
        "\n",
        "The new tensor retains the properties (shape, datatype) of the argument tensor, unless explicitly overridden.\n",
        "\n"
      ]
    },
    {
      "cell_type": "code",
      "execution_count": null,
      "metadata": {
        "id": "Rg1YveDFv2q8",
        "colab": {
          "base_uri": "https://localhost:8080/"
        },
        "outputId": "20fdc5cc-c2e2-4f26-d38d-f668463af4b3"
      },
      "outputs": [
        {
          "output_type": "stream",
          "name": "stdout",
          "text": [
            "Ones Tensor: \n",
            " tensor([[1, 1],\n",
            "        [1, 1]]) \n",
            "\n",
            "Random Tensor: \n",
            " tensor([[0.1352, 0.9956],\n",
            "        [0.2678, 0.3374]]) \n",
            "\n"
          ]
        }
      ],
      "source": [
        "x_ones = torch.ones_like(x_data) # retains the properties of x_data\n",
        "print(f\"Ones Tensor: \\n {x_ones} \\n\")\n",
        "\n",
        "x_rand = torch.rand_like(x_data, dtype=torch.float) # overrides the datatype of x_data\n",
        "print(f\"Random Tensor: \\n {x_rand} \\n\")"
      ]
    },
    {
      "cell_type": "markdown",
      "metadata": {
        "id": "LJOQuIKLv2q8"
      },
      "source": [
        "**With random or constant values:**\n",
        "\n",
        "``shape`` is a tuple of tensor dimensions. In the functions below, it determines the dimensionality of the output tensor.\n",
        "\n"
      ]
    },
    {
      "cell_type": "code",
      "execution_count": null,
      "metadata": {
        "id": "VBO9cFBov2q9",
        "colab": {
          "base_uri": "https://localhost:8080/"
        },
        "outputId": "cd982a8f-092d-4915-ce61-0b2c362d829f"
      },
      "outputs": [
        {
          "output_type": "stream",
          "name": "stdout",
          "text": [
            "Random Tensor: \n",
            " tensor([[0.8536, 0.8259, 0.3275],\n",
            "        [0.2959, 0.1651, 0.3099]]) \n",
            "\n",
            "Ones Tensor: \n",
            " tensor([[1., 1., 1.],\n",
            "        [1., 1., 1.]]) \n",
            "\n",
            "Zeros Tensor: \n",
            " tensor([[0., 0., 0.],\n",
            "        [0., 0., 0.]])\n"
          ]
        }
      ],
      "source": [
        "shape = (2,3,)\n",
        "rand_tensor = torch.rand(shape)\n",
        "ones_tensor = torch.ones(shape)\n",
        "zeros_tensor = torch.zeros(shape)\n",
        "\n",
        "print(f\"Random Tensor: \\n {rand_tensor} \\n\")\n",
        "print(f\"Ones Tensor: \\n {ones_tensor} \\n\")\n",
        "print(f\"Zeros Tensor: \\n {zeros_tensor}\")"
      ]
    },
    {
      "cell_type": "markdown",
      "metadata": {
        "id": "_TAVDJDkv2q-"
      },
      "source": [
        "--------------\n",
        "\n",
        "\n"
      ]
    },
    {
      "cell_type": "markdown",
      "metadata": {
        "id": "OPnm4wTvv2q9"
      },
      "source": [
        "## Attributes of a Tensor\n",
        "\n",
        "Tensor attributes describe their shape, datatype, and the device on which they are stored.\n",
        "\n"
      ]
    },
    {
      "cell_type": "code",
      "execution_count": null,
      "metadata": {
        "id": "g_8IbYUuv2q9",
        "colab": {
          "base_uri": "https://localhost:8080/"
        },
        "outputId": "d532f3e1-6f82-4619-8ed7-45d544534e35"
      },
      "outputs": [
        {
          "output_type": "stream",
          "name": "stdout",
          "text": [
            "Shape of tensor: torch.Size([3, 4])\n",
            "Datatype of tensor: torch.float32\n",
            "Device tensor is stored on: cpu\n"
          ]
        }
      ],
      "source": [
        "tensor = torch.rand(3,4)\n",
        "\n",
        "print(f\"Shape of tensor: {tensor.shape}\")\n",
        "print(f\"Datatype of tensor: {tensor.dtype}\")\n",
        "print(f\"Device tensor is stored on: {tensor.device}\")"
      ]
    },
    {
      "cell_type": "markdown",
      "metadata": {
        "id": "KAcM2dpNyQhj"
      },
      "source": [
        "--------------\n",
        "\n",
        "\n"
      ]
    },
    {
      "cell_type": "markdown",
      "metadata": {
        "id": "KqS2tdb7v2q-"
      },
      "source": [
        "## Operations on Tensors\n",
        "\n",
        "Over 100 tensor operations, including arithmetic, linear algebra, matrix manipulation (transposing,\n",
        "indexing, slicing), sampling and more are\n",
        "comprehensively described `here <https://pytorch.org/docs/stable/torch.html>`__.\n",
        "\n",
        "Each of these operations can be run on the GPU (at typically higher speeds than on a\n",
        "CPU). If you’re using Colab, allocate a GPU by going to Runtime > Change runtime type > GPU.\n",
        "\n",
        "By default, tensors are created on the CPU. We need to explicitly move tensors to the GPU using\n",
        "``.to`` method (after checking for GPU availability). Keep in mind that copying large tensors\n",
        "across devices can be expensive in terms of time and memory!\n",
        "\n"
      ]
    },
    {
      "cell_type": "code",
      "execution_count": null,
      "metadata": {
        "id": "wG49zN9dv2q_",
        "colab": {
          "base_uri": "https://localhost:8080/"
        },
        "outputId": "a23d305d-34ce-48a9-84a6-17d11167315e"
      },
      "outputs": [
        {
          "output_type": "stream",
          "name": "stdout",
          "text": [
            "Device tensor is stored on: cuda:0\n"
          ]
        }
      ],
      "source": [
        "# We move our tensor to the GPU if available\n",
        "if torch.cuda.is_available():\n",
        "    tensor = tensor.to('cuda')\n",
        "    print(f\"Device tensor is stored on: {tensor.device}\")\n",
        "    device = torch.device('cuda')\n",
        "else:\n",
        "    device = torch.device('cpu')\n",
        "\n",
        "tensor = tensor.to(device) #same as tensor.to('cuda') or tensor.to('cpu')"
      ]
    },
    {
      "cell_type": "markdown",
      "metadata": {
        "id": "W_IxAa5pv2q_"
      },
      "source": [
        "Try out some of the operations from the list.\n",
        "If you're familiar with the NumPy API, you'll find the Tensor API a breeze to use.\n",
        "\n",
        "\n"
      ]
    },
    {
      "cell_type": "markdown",
      "metadata": {
        "id": "0j0dXtA0v2q_"
      },
      "source": [
        "**Standard numpy-like indexing and slicing:**\n",
        "\n"
      ]
    },
    {
      "cell_type": "code",
      "execution_count": null,
      "metadata": {
        "id": "1r5-7yAiv2q_",
        "colab": {
          "base_uri": "https://localhost:8080/"
        },
        "outputId": "5dca72d9-bc10-40b3-951d-415829433f5d"
      },
      "outputs": [
        {
          "output_type": "stream",
          "name": "stdout",
          "text": [
            "First row:  tensor([1., 1., 1., 1.])\n",
            "First column:  tensor([1., 1., 1., 1.])\n",
            "Last column: tensor([1., 1., 1., 1.])\n",
            "tensor([[1., 0., 1., 1.],\n",
            "        [1., 0., 1., 1.],\n",
            "        [1., 0., 1., 1.],\n",
            "        [1., 0., 1., 1.]])\n"
          ]
        }
      ],
      "source": [
        "tensor = torch.ones(4, 4)\n",
        "print('First row: ', tensor[0])\n",
        "print('First column: ', tensor[:, 0])\n",
        "print('Last column:', tensor[..., -1])\n",
        "tensor[:,1] = 0\n",
        "print(tensor)"
      ]
    },
    {
      "cell_type": "markdown",
      "metadata": {
        "id": "8FaxRx88v2rA"
      },
      "source": [
        "**Joining tensors** You can use ``torch.cat`` to concatenate a sequence of tensors along a given dimension.\n",
        "See also `torch.stack <https://pytorch.org/docs/stable/generated/torch.stack.html>`__,\n",
        "another tensor joining op that is subtly different from ``torch.cat``.\n",
        "\n"
      ]
    },
    {
      "cell_type": "code",
      "execution_count": null,
      "metadata": {
        "id": "qMO-psp4v2rA",
        "colab": {
          "base_uri": "https://localhost:8080/"
        },
        "outputId": "73432f44-9e11-44c0-86b6-996551b5c2dc"
      },
      "outputs": [
        {
          "output_type": "stream",
          "name": "stdout",
          "text": [
            "tensor([[1., 0., 1., 1., 1., 0., 1., 1., 1., 0., 1., 1.],\n",
            "        [1., 0., 1., 1., 1., 0., 1., 1., 1., 0., 1., 1.],\n",
            "        [1., 0., 1., 1., 1., 0., 1., 1., 1., 0., 1., 1.],\n",
            "        [1., 0., 1., 1., 1., 0., 1., 1., 1., 0., 1., 1.]])\n"
          ]
        }
      ],
      "source": [
        "t1 = torch.cat([tensor, tensor, tensor], dim=1)\n",
        "print(t1)"
      ]
    },
    {
      "cell_type": "markdown",
      "metadata": {
        "id": "C792wff2v2rA"
      },
      "source": [
        "**Arithmetic operations**\n",
        "\n"
      ]
    },
    {
      "cell_type": "code",
      "execution_count": null,
      "metadata": {
        "id": "SfuYOSYSv2rA",
        "colab": {
          "base_uri": "https://localhost:8080/"
        },
        "outputId": "95f8ed4e-d9bf-4177-c338-463651368167"
      },
      "outputs": [
        {
          "output_type": "execute_result",
          "data": {
            "text/plain": [
              "tensor([[1., 0., 1., 1.],\n",
              "        [1., 0., 1., 1.],\n",
              "        [1., 0., 1., 1.],\n",
              "        [1., 0., 1., 1.]])"
            ]
          },
          "metadata": {},
          "execution_count": 11
        }
      ],
      "source": [
        "# This computes the matrix multiplication between two tensors. y1, y2, y3 will have the same value\n",
        "y1 = tensor @ tensor.T\n",
        "y2 = tensor.matmul(tensor.T)\n",
        "\n",
        "y3 = torch.rand_like(tensor)\n",
        "torch.matmul(tensor, tensor.T, out=y3)\n",
        "\n",
        "\n",
        "# This computes the element-wise product. z1, z2, z3 will have the same value\n",
        "z1 = tensor * tensor\n",
        "z2 = tensor.mul(tensor)\n",
        "\n",
        "z3 = torch.rand_like(tensor)\n",
        "torch.mul(tensor, tensor, out=z3)"
      ]
    },
    {
      "cell_type": "markdown",
      "metadata": {
        "id": "uNzkfqR6v2rA"
      },
      "source": [
        "**Single-element tensors** If you have a one-element tensor, for example by aggregating all\n",
        "values of a tensor into one value, you can convert it to a Python\n",
        "numerical value using ``item()``:\n",
        "\n"
      ]
    },
    {
      "cell_type": "code",
      "execution_count": null,
      "metadata": {
        "id": "Vrptrysbv2rA",
        "colab": {
          "base_uri": "https://localhost:8080/"
        },
        "outputId": "c5443863-c4c6-43bb-f105-d57b8596661e"
      },
      "outputs": [
        {
          "output_type": "stream",
          "name": "stdout",
          "text": [
            "12.0 <class 'float'>\n"
          ]
        }
      ],
      "source": [
        "agg = tensor.sum()\n",
        "agg_item = agg.item()\n",
        "print(agg_item, type(agg_item))"
      ]
    },
    {
      "cell_type": "markdown",
      "source": [
        "-------------------------\n",
        "# Exercises on Tensor manipulation"
      ],
      "metadata": {
        "id": "W4GTnYGfzMXf"
      }
    },
    {
      "cell_type": "markdown",
      "source": [
        "## Exercise 1: \n",
        "Compute $\\Vert t_1+t_2\\Vert^2$ and return the result as a `float`. \n",
        "You should use `torch.square` and `torch.sum` in your solution.\n",
        "\n",
        "<u>Hint:</u> Beware, that $t_1$ and $t_2$ have different shapes, so you should resize them to a common shape first."
      ],
      "metadata": {
        "id": "rHW5jmnt3pk-"
      }
    },
    {
      "cell_type": "code",
      "source": [
        "debug = False # change to True for more unit test details\n",
        "def exercise1(t1,t2):\n",
        "  return 0.0\n",
        "\n",
        "def test_exercise1():\n",
        "  t1 = torch.ones((3,4))\n",
        "  t2 = torch.arange(0,12)\n",
        "  result = exercise1(t1,t2)\n",
        "  expected = 386\n",
        "  if isinstance(result, float) and result == expected:\n",
        "    print('Exercise 1: OK')\n",
        "  else:\n",
        "    print('Exercise 1: NOK')\n",
        "    if not isinstance(result, float):\n",
        "      print('Hint: don\\'t forget to return a float and not a tensor (with item())')\n",
        "    if debug:\n",
        "      print(f' result : {result}')\n",
        "      print(f' expected : {expected}')\n",
        "\n",
        "test_exercise1()"
      ],
      "metadata": {
        "colab": {
          "base_uri": "https://localhost:8080/"
        },
        "id": "DdYR2M9TzS81",
        "outputId": "2b8372ba-0f1c-47de-9ad1-c8fddc48e06d"
      },
      "execution_count": 80,
      "outputs": [
        {
          "output_type": "stream",
          "name": "stdout",
          "text": [
            "Exercise 1: NOK\n"
          ]
        }
      ]
    },
    {
      "cell_type": "markdown",
      "source": [
        "## Exercice 2: Monte-carlo estimation of $\\pi/4$\n",
        "To estimate $\\pi/4$, we can generate $n$ random samples in the unit square, and count the ratio that have a norm less than 1. To do so in pytorch, generate a random tensor of shape $n\\times 2$ and compute the norm of each column, and guess the rest of the solution.\n",
        "![Illustration](https://upload.wikimedia.org/wikipedia/commons/thumb/8/84/Pi_30K.gif/440px-Pi_30K.gif)\n"
      ],
      "metadata": {
        "id": "R6y0Yl7j5Iw8"
      }
    },
    {
      "cell_type": "code",
      "source": [
        "debug = False\n",
        "def exercise2(n_samples):\n",
        "  return torch.tensor([0.0]).double()\n",
        "  \n",
        "def test_exercise2():\n",
        "  result = exercise2(int(1e7))\n",
        "  expected = torch.tensor([torch.pi/4]).double()\n",
        "  if  torch.isclose(result, expected, atol=1e-3):\n",
        "    print('Exercise 2: OK')\n",
        "  else:\n",
        "    print('Exercise 2: NOK')\n",
        "    if debug:\n",
        "      print(f' result : {result.item()}')\n",
        "      print(f' expected : {expected.item()}')\n",
        "\n",
        "test_exercise2()"
      ],
      "metadata": {
        "colab": {
          "base_uri": "https://localhost:8080/"
        },
        "id": "3VfZFreR1KOB",
        "outputId": "ed1c03e6-6d59-4b8c-fede-77cb01aaeb55"
      },
      "execution_count": 84,
      "outputs": [
        {
          "output_type": "stream",
          "name": "stdout",
          "text": [
            "Exercise 2: NOK\n"
          ]
        }
      ]
    },
    {
      "cell_type": "markdown",
      "source": [
        "# Training a Neural Network"
      ],
      "metadata": {
        "id": "pSG7CNISKQqk"
      }
    },
    {
      "cell_type": "markdown",
      "source": [
        "## Linear regression from scratch\n",
        "\n",
        "This material is adapted from from [this tutorial](https://colab.research.google.com/github/AyyappaSwamyPanthadi/JovianDLwithPyTorch/blob/main/02_linear_regression.ipynb).\n"
      ],
      "metadata": {
        "id": "A6F6wMHpVlq4"
      }
    },
    {
      "cell_type": "markdown",
      "source": [
        "### Quick recap on Linear Regression (You may skip this)\n"
      ],
      "metadata": {
        "id": "NiRuJPJEpTbT"
      }
    },
    {
      "cell_type": "markdown",
      "metadata": {
        "id": "ZzADg8CInTT1"
      },
      "source": [
        "\n",
        "In this tutorial, we'll discuss one of the foundational algorithms in machine learning: *Linear regression*. We'll create a model that predicts crop yields for apples and oranges (*target variables*) by looking at the average temperature, rainfall, and humidity (*input variables or features*) in a region. Here's the training data:\n",
        "\n",
        "![linear-regression-training-data](https://i.imgur.com/6Ujttb4.png)\n",
        "\n",
        "In a linear regression model, each target variable is estimated to be a weighted sum of the input variables, offset by some constant, known as a bias :\n",
        "\n",
        "```\n",
        "yield_apple  = w11 * temp + w12 * rainfall + w13 * humidity + b1\n",
        "yield_orange = w21 * temp + w22 * rainfall + w23 * humidity + b2\n",
        "```\n",
        "\n",
        "Visually, it means that the yield of apples is a linear or planar function of temperature, rainfall and humidity:\n",
        "\n",
        "![linear-regression-graph](https://i.imgur.com/4DJ9f8X.png)"
      ]
    },
    {
      "cell_type": "markdown",
      "metadata": {
        "id": "W7FMvwzHnTT1"
      },
      "source": [
        "The *learning* part of linear regression is to figure out a set of weights `w11, w12,... w23, b1 & b2` using the training data, to make accurate predictions for new data. The _learned_ weights will be used to predict the yields for apples and oranges in a new region using the average temperature, rainfall, and humidity for that region. \n",
        "\n",
        "We'll _train_ our model by adjusting the weights slightly many times to make better predictions, using an optimization technique called *gradient descent*. Let's begin by importing Numpy and PyTorch."
      ]
    },
    {
      "cell_type": "markdown",
      "metadata": {
        "id": "s3IqanhvnTT1"
      },
      "source": [
        "### Training data\n",
        "\n",
        "We can represent the training data using two matrices: `inputs` and `targets`, each with one row per observation, and one column per variable."
      ]
    },
    {
      "cell_type": "code",
      "metadata": {
        "id": "tcn-wTHjnTT1"
      },
      "source": [
        "# Input (temp, rainfall, humidity)\n",
        "inputs_np = np.array([[73, 67, 43], \n",
        "                   [91, 88, 64], \n",
        "                   [87, 134, 58], \n",
        "                   [102, 43, 37], \n",
        "                   [69, 96, 70]], dtype='float32')"
      ],
      "execution_count": null,
      "outputs": []
    },
    {
      "cell_type": "code",
      "metadata": {
        "id": "E_NGrsiznTT1"
      },
      "source": [
        "# Targets (apples, oranges)\n",
        "targets_np = np.array([[56, 70], \n",
        "                    [81, 101], \n",
        "                    [119, 133], \n",
        "                    [22, 37], \n",
        "                    [103, 119]], dtype='float32')"
      ],
      "execution_count": null,
      "outputs": []
    },
    {
      "cell_type": "markdown",
      "metadata": {
        "id": "VXWt96VZnTT1"
      },
      "source": [
        "We've separated the input and target variables because we'll operate on them separately. Also, we've created numpy arrays, because this is typically how you would work with training data: read some CSV files as numpy arrays, do some processing, and then convert them to PyTorch tensors.\n",
        "\n",
        "Let's convert the arrays to PyTorch tensors."
      ]
    },
    {
      "cell_type": "code",
      "metadata": {
        "colab": {
          "base_uri": "https://localhost:8080/"
        },
        "id": "gMijJeq0nTT1",
        "outputId": "37318a2e-45f2-43cb-968b-ac2816211503"
      },
      "source": [
        "# Convert inputs and targets to tensors\n",
        "inputs = torch.from_numpy(inputs_np)\n",
        "targets = torch.from_numpy(targets_np)\n",
        "print(inputs)\n",
        "print(targets)"
      ],
      "execution_count": null,
      "outputs": [
        {
          "output_type": "stream",
          "name": "stdout",
          "text": [
            "tensor([[ 73.,  67.,  43.],\n",
            "        [ 91.,  88.,  64.],\n",
            "        [ 87., 134.,  58.],\n",
            "        [102.,  43.,  37.],\n",
            "        [ 69.,  96.,  70.]])\n",
            "tensor([[ 56.,  70.],\n",
            "        [ 81., 101.],\n",
            "        [119., 133.],\n",
            "        [ 22.,  37.],\n",
            "        [103., 119.]])\n"
          ]
        }
      ]
    },
    {
      "cell_type": "markdown",
      "source": [
        "### Prediction model and trainable parameters\n",
        "The weights and biases (`w11, w12,... w23, b1 & b2`) can also be represented as matrices, initialized as random values. The first row of `w` and the first element of `b` are used to predict the first target variable, i.e., yield of apples, and similarly, the second for oranges."
      ],
      "metadata": {
        "id": "gQF2EGB482Rh"
      }
    },
    {
      "cell_type": "code",
      "metadata": {
        "colab": {
          "base_uri": "https://localhost:8080/"
        },
        "id": "Rt4nxbZ1nTT3",
        "outputId": "d44500a3-638e-4837-f616-1e40bdb97a01"
      },
      "source": [
        "# Weights and biases\n",
        "w = torch.randn(2, 3, requires_grad=True)\n",
        "b = torch.randn(2, requires_grad=True)\n",
        "print(w)\n",
        "print(b)"
      ],
      "execution_count": null,
      "outputs": [
        {
          "output_type": "stream",
          "name": "stdout",
          "text": [
            "tensor([[-1.6060,  0.3331, -2.3709],\n",
            "        [-0.8829, -0.5157,  0.5810]], requires_grad=True)\n",
            "tensor([1.2229, 0.9915], requires_grad=True)\n"
          ]
        }
      ]
    },
    {
      "cell_type": "markdown",
      "metadata": {
        "id": "gpx-WJyKnTT3"
      },
      "source": [
        "`torch.randn` creates a tensor with the given shape, with elements picked randomly from a [normal distribution](https://en.wikipedia.org/wiki/Normal_distribution) with mean 0 and standard deviation 1.\n",
        "\n",
        "Our *model* is simply a function that performs a matrix multiplication of the `inputs` and the weights `w` (transposed) and adds the bias `b` (replicated for each observation).\n",
        "\n",
        "![matrix-mult](https://i.imgur.com/WGXLFvA.png)\n",
        "\n",
        "We can define the model as follows:"
      ]
    },
    {
      "cell_type": "code",
      "metadata": {
        "id": "hx_I7LMRnTT3"
      },
      "source": [
        "def model(x):\n",
        "    return x @ w.t() + b"
      ],
      "execution_count": null,
      "outputs": []
    },
    {
      "cell_type": "markdown",
      "metadata": {
        "id": "bPVEBiIEnTT3"
      },
      "source": [
        "`@` represents matrix multiplication in PyTorch, and the `.t` method returns the transpose of a tensor.\n",
        "\n",
        "The matrix obtained by passing the input data into the model is a set of predictions for the target variables."
      ]
    },
    {
      "cell_type": "code",
      "metadata": {
        "colab": {
          "base_uri": "https://localhost:8080/"
        },
        "id": "o1NDBr7RnTT3",
        "outputId": "09f9a904-2fd6-491c-df7b-d9400703e050"
      },
      "source": [
        "# Generate predictions\n",
        "preds = model(inputs)\n",
        "print(preds)"
      ],
      "execution_count": null,
      "outputs": [
        {
          "output_type": "stream",
          "name": "stdout",
          "text": [
            "tensor([[-195.6488,  -73.0255],\n",
            "        [-267.3517,  -87.5452],\n",
            "        [-231.3787, -111.2197],\n",
            "        [-235.9925,  -89.7399],\n",
            "        [-243.5801,  -68.7605]], grad_fn=<AddBackward0>)\n"
          ]
        }
      ]
    },
    {
      "cell_type": "markdown",
      "metadata": {
        "id": "lE6Z0_yXnTT3"
      },
      "source": [
        "Let's compare the predictions of our model with the actual targets."
      ]
    },
    {
      "cell_type": "code",
      "metadata": {
        "colab": {
          "base_uri": "https://localhost:8080/"
        },
        "id": "RKMOC8s6nTT3",
        "outputId": "88822fa0-743b-4671-b73c-7aa81accf282"
      },
      "source": [
        "# Compare with targets\n",
        "print(targets)"
      ],
      "execution_count": null,
      "outputs": [
        {
          "output_type": "stream",
          "name": "stdout",
          "text": [
            "tensor([[ 56.,  70.],\n",
            "        [ 81., 101.],\n",
            "        [119., 133.],\n",
            "        [ 22.,  37.],\n",
            "        [103., 119.]])\n"
          ]
        }
      ]
    },
    {
      "cell_type": "markdown",
      "metadata": {
        "id": "2fk3vJAlnTT3"
      },
      "source": [
        "You can see a big difference between our model's predictions and the actual targets because we've initialized our model with random weights and biases. Obviously, we can't expect a randomly initialized model to *just work*."
      ]
    },
    {
      "cell_type": "markdown",
      "metadata": {
        "id": "pd9O0g-SnTT3"
      },
      "source": [
        "### Loss function\n",
        "\n",
        "Before we improve our model, we need a way to evaluate how well our model is performing. We can compare the model's predictions with the actual targets using the following method:\n",
        "\n",
        "* Calculate the difference between the two matrices (`preds` and `targets`).\n",
        "* Square all elements of the difference matrix to remove negative values.\n",
        "* Calculate the average of the elements in the resulting matrix.\n",
        "\n",
        "The result is a single number, known as the **mean squared error** (MSE)."
      ]
    },
    {
      "cell_type": "code",
      "metadata": {
        "id": "X3CTid0inTT3"
      },
      "source": [
        "# MSE loss\n",
        "def mse(t1, t2):\n",
        "    diff = t1 - t2\n",
        "    return torch.sum(diff * diff) / diff.numel()"
      ],
      "execution_count": null,
      "outputs": []
    },
    {
      "cell_type": "markdown",
      "metadata": {
        "id": "c_1IlBUSnTT3"
      },
      "source": [
        "`torch.sum` returns the sum of all the elements in a tensor. The `.numel` method of a tensor returns the number of elements in a tensor. Let's compute the mean squared error for the current predictions of our model."
      ]
    },
    {
      "cell_type": "code",
      "metadata": {
        "colab": {
          "base_uri": "https://localhost:8080/"
        },
        "id": "el39Br0_nTT3",
        "outputId": "7e6c18e9-6cea-40a4-ae49-1f3ea92183a5"
      },
      "source": [
        "# Compute loss\n",
        "loss = mse(preds, targets)\n",
        "print(loss)"
      ],
      "execution_count": null,
      "outputs": [
        {
          "output_type": "stream",
          "name": "stdout",
          "text": [
            "tensor(66108.5000, grad_fn=<DivBackward0>)\n"
          ]
        }
      ]
    },
    {
      "cell_type": "markdown",
      "metadata": {
        "id": "MwFznNMRnTT3"
      },
      "source": [
        "Here’s how we can interpret the result: *On average, each element in the prediction differs from the actual target by the square root of the loss*. And that’s pretty bad, considering the numbers we are trying to predict are themselves in the range 50–200. The result is called the *loss* because it indicates how bad the model is at predicting the target variables. It represents information loss in the model: the lower the loss, the better the model."
      ]
    },
    {
      "cell_type": "markdown",
      "metadata": {
        "id": "7JTLBcHKnTT4"
      },
      "source": [
        "### Compute gradients with back-propagation\n",
        "\n",
        "With PyTorch, we can automatically compute the gradient or derivative of the loss w.r.t. to the weights and biases because they have `requires_grad` set to `True`. We'll see how this is useful in just a moment."
      ]
    },
    {
      "cell_type": "code",
      "metadata": {
        "id": "4vR_Qx_anTT4"
      },
      "source": [
        "# Compute gradients\n",
        "loss.backward()"
      ],
      "execution_count": null,
      "outputs": []
    },
    {
      "cell_type": "markdown",
      "metadata": {
        "id": "Q6P_G_IunTT4"
      },
      "source": [
        "The gradients are stored in the `.grad` property of the respective tensors. Note that the derivative of the loss w.r.t. the weights matrix is itself a matrix with the same dimensions."
      ]
    },
    {
      "cell_type": "code",
      "metadata": {
        "colab": {
          "base_uri": "https://localhost:8080/"
        },
        "id": "gFHnNlGGnTT4",
        "outputId": "bdb9b8d3-fade-433c-a3db-4360cf2b5a48"
      },
      "source": [
        "# Gradients for weights\n",
        "print(w)\n",
        "print(w.grad)"
      ],
      "execution_count": null,
      "outputs": [
        {
          "output_type": "stream",
          "name": "stdout",
          "text": [
            "tensor([[-1.6060,  0.3331, -2.3709],\n",
            "        [-0.8829, -0.5157,  0.5810]], requires_grad=True)\n",
            "tensor([[-26156.5156, -27766.3086, -17448.7422],\n",
            "        [-14945.7070, -16474.9883, -10042.8691]])\n"
          ]
        }
      ]
    },
    {
      "cell_type": "markdown",
      "metadata": {
        "id": "IwThOdeCnTT4"
      },
      "source": [
        "### Adjust weights and biases to reduce the loss"
      ]
    },
    {
      "cell_type": "code",
      "metadata": {
        "colab": {
          "base_uri": "https://localhost:8080/"
        },
        "id": "rS5Ud2BqnTT4",
        "outputId": "56b83d82-2c4c-45d0-bf28-9deaedf9983e"
      },
      "source": [
        "w\n",
        "w.grad"
      ],
      "execution_count": null,
      "outputs": [
        {
          "output_type": "execute_result",
          "data": {
            "text/plain": [
              "tensor([[-26156.5156, -27766.3086, -17448.7422],\n",
              "        [-14945.7070, -16474.9883, -10042.8691]])"
            ]
          },
          "metadata": {},
          "execution_count": 26
        }
      ]
    },
    {
      "cell_type": "code",
      "metadata": {
        "id": "EufDzKpKnTT4"
      },
      "source": [
        "with torch.no_grad():\n",
        "    w -= w.grad * 1e-5\n",
        "    b -= b.grad * 1e-5"
      ],
      "execution_count": null,
      "outputs": []
    },
    {
      "cell_type": "markdown",
      "metadata": {
        "id": "LPe-k0O4nTT4"
      },
      "source": [
        "We multiply the gradients with a very small number (`10^-5` in this case) to ensure that we don't modify the weights by a very large amount. We want to take a small step in the downhill direction of the gradient, not a giant leap. This number is called the *learning rate* of the algorithm. \n",
        "\n",
        "We use `torch.no_grad` to indicate to PyTorch that we shouldn't track, calculate, or modify gradients while updating the weights and biases."
      ]
    },
    {
      "cell_type": "code",
      "metadata": {
        "colab": {
          "base_uri": "https://localhost:8080/"
        },
        "id": "J_5ETo1_nTT4",
        "outputId": "01be942a-2e35-486f-d3c0-02c55c031290"
      },
      "source": [
        "# Let's verify that the loss is actually lower\n",
        "loss = mse(preds, targets)\n",
        "print(loss)"
      ],
      "execution_count": null,
      "outputs": [
        {
          "output_type": "stream",
          "name": "stdout",
          "text": [
            "tensor(66108.5000, grad_fn=<DivBackward0>)\n"
          ]
        }
      ]
    },
    {
      "cell_type": "markdown",
      "metadata": {
        "id": "IljCPYoenTT4"
      },
      "source": [
        "Before we proceed, we reset the gradients to zero by invoking the `.zero_()` method. We need to do this because PyTorch accumulates gradients. Otherwise, the next time we invoke `.backward` on the loss, the new gradient values are added to the existing gradients, which may lead to unexpected results."
      ]
    },
    {
      "cell_type": "code",
      "metadata": {
        "colab": {
          "base_uri": "https://localhost:8080/"
        },
        "id": "8tNqHSVGnTT4",
        "outputId": "e7baaff1-71f3-4974-8e7f-2f7d7943d474"
      },
      "source": [
        "w.grad.zero_()\n",
        "b.grad.zero_()\n",
        "print(w.grad)\n",
        "print(b.grad)"
      ],
      "execution_count": null,
      "outputs": [
        {
          "output_type": "stream",
          "name": "stdout",
          "text": [
            "tensor([[0., 0., 0.],\n",
            "        [0., 0., 0.]])\n",
            "tensor([0., 0.])\n"
          ]
        }
      ]
    },
    {
      "cell_type": "markdown",
      "metadata": {
        "id": "sz9uHPJHnTT4"
      },
      "source": [
        "### Train the model using gradient descent\n",
        "\n",
        "As seen above, we reduce the loss and improve our model using the gradient descent optimization algorithm. Thus, we can _train_ the model using the following steps:\n",
        "\n",
        "1. Generate predictions\n",
        "\n",
        "2. Calculate the loss\n",
        "\n",
        "3. Compute gradients w.r.t the weights and biases\n",
        "\n",
        "4. Adjust the weights by subtracting a small quantity proportional to the gradient\n",
        "\n",
        "5. Reset the gradients to zero\n",
        "\n",
        "Let's implement the above step by step."
      ]
    },
    {
      "cell_type": "code",
      "metadata": {
        "colab": {
          "base_uri": "https://localhost:8080/"
        },
        "id": "L15inDxfnTT4",
        "outputId": "fde1cb85-0dad-4c13-b486-20a71774e6db"
      },
      "source": [
        "# Generate predictions\n",
        "preds = model(inputs)\n",
        "print(preds)"
      ],
      "execution_count": null,
      "outputs": [
        {
          "output_type": "stream",
          "name": "stdout",
          "text": [
            "tensor([[-150.4451,  -46.7566],\n",
            "        [-207.9447,  -53.0173],\n",
            "        [-161.2923,  -70.3138],\n",
            "        [-190.9142,  -63.6934],\n",
            "        [-186.6592,  -35.6002]], grad_fn=<AddBackward0>)\n"
          ]
        }
      ]
    },
    {
      "cell_type": "code",
      "metadata": {
        "colab": {
          "base_uri": "https://localhost:8080/"
        },
        "id": "W9HfDOF2nTT5",
        "outputId": "0781d26c-fc6c-4118-f4fd-52e88cfd18b3"
      },
      "source": [
        "# Calculate the loss\n",
        "loss = mse(preds, targets)\n",
        "loss_at_init = loss.item()\n",
        "print(loss_at_init)"
      ],
      "execution_count": null,
      "outputs": [
        {
          "output_type": "stream",
          "name": "stdout",
          "text": [
            "44663.7578125\n"
          ]
        }
      ]
    },
    {
      "cell_type": "code",
      "metadata": {
        "colab": {
          "base_uri": "https://localhost:8080/"
        },
        "id": "cTwKt8TpnTT5",
        "outputId": "ebefaab5-d711-4582-8dd1-4f4bce6428f0"
      },
      "source": [
        "# Compute gradients\n",
        "loss.backward()\n",
        "print(w.grad)\n",
        "print(b.grad)"
      ],
      "execution_count": null,
      "outputs": [
        {
          "output_type": "stream",
          "name": "stdout",
          "text": [
            "tensor([[-21490.7227, -22756.1406, -14356.1035],\n",
            "        [-12233.0527, -13558.3418,  -8243.5039]])\n",
            "tensor([-255.6511, -145.8763])\n"
          ]
        }
      ]
    },
    {
      "cell_type": "markdown",
      "metadata": {
        "id": "VcmscbUynTT5"
      },
      "source": [
        "Let's update the weights and biases using the gradients computed above."
      ]
    },
    {
      "cell_type": "code",
      "metadata": {
        "id": "LTmQ0lZxnTT5"
      },
      "source": [
        "# Adjust weights & reset gradients\n",
        "with torch.no_grad():\n",
        "    w -= w.grad * 1e-5\n",
        "    b -= b.grad * 1e-5\n",
        "    w.grad.zero_()\n",
        "    b.grad.zero_()"
      ],
      "execution_count": null,
      "outputs": []
    },
    {
      "cell_type": "markdown",
      "metadata": {
        "id": "-F1r5X7KnTT5"
      },
      "source": [
        "Let's take a look at the new weights and biases."
      ]
    },
    {
      "cell_type": "code",
      "metadata": {
        "colab": {
          "base_uri": "https://localhost:8080/"
        },
        "id": "j9qYhF6PnTT5",
        "outputId": "1209c06c-da32-404d-fc2a-dd3526d6b02c"
      },
      "source": [
        "print(w)\n",
        "print(b)"
      ],
      "execution_count": null,
      "outputs": [
        {
          "output_type": "stream",
          "name": "stdout",
          "text": [
            "tensor([[-1.1295,  0.8383, -2.0529],\n",
            "        [-0.6111, -0.2153,  0.7639]], requires_grad=True)\n",
            "tensor([1.2285, 0.9947], requires_grad=True)\n"
          ]
        }
      ]
    },
    {
      "cell_type": "markdown",
      "metadata": {
        "id": "71ByIRwZnTT5"
      },
      "source": [
        "With the new weights and biases, the model should have a lower loss."
      ]
    },
    {
      "cell_type": "code",
      "metadata": {
        "colab": {
          "base_uri": "https://localhost:8080/"
        },
        "id": "Bm_tUN6WnTT5",
        "outputId": "922ea945-bc8b-4a7f-b76c-f416d112c799"
      },
      "source": [
        "# Calculate loss\n",
        "preds = model(inputs)\n",
        "loss = mse(preds, targets)\n",
        "loss_after_update = loss.item()\n",
        "print(f'Loss before update: {loss_at_init}')\n",
        "print(f'Loss after  update: {loss_after_update}')"
      ],
      "execution_count": null,
      "outputs": [
        {
          "output_type": "stream",
          "name": "stdout",
          "text": [
            "Loss before update: 44663.7578125\n",
            "Loss after  update: 30211.916015625\n"
          ]
        }
      ]
    },
    {
      "cell_type": "markdown",
      "metadata": {
        "id": "wWRxMxS9nTT5"
      },
      "source": [
        "We have already achieved a significant reduction in the loss merely by adjusting the weights and biases slightly using gradient descent."
      ]
    },
    {
      "cell_type": "markdown",
      "metadata": {
        "id": "ozXcGLatnTT5"
      },
      "source": [
        "### Train for multiple epochs\n",
        "\n",
        "To reduce the loss further, we can repeat the process of adjusting the weights and biases using the gradients multiple times. Each iteration is called an _epoch_. Let's train the model for 100 epochs."
      ]
    },
    {
      "cell_type": "code",
      "metadata": {
        "id": "JI3JMBMDnTT5"
      },
      "source": [
        "def perform_one_update(inputs, targets, w, b):\n",
        "    def model(inputs):\n",
        "        return inputs @ w.t() +  b\n",
        "    preds = model(inputs)\n",
        "    loss = mse(preds, targets)\n",
        "    loss.backward()\n",
        "    with torch.no_grad():\n",
        "        w -= w.grad * 1e-5\n",
        "        b -= b.grad * 1e-5\n",
        "        w.grad.zero_()\n",
        "        b.grad.zero_()\n",
        "\n",
        "def train_with_GD(inputs, targets, w, b, epochs=100):\n",
        "    for epoch in range(epochs):\n",
        "        perform_one_update(inputs, targets, w, b)\n",
        "  \n",
        "train_with_GD(inputs, targets, w, b, epochs=100)"
      ],
      "execution_count": null,
      "outputs": []
    },
    {
      "cell_type": "markdown",
      "metadata": {
        "id": "K6ifpLK_nTT5"
      },
      "source": [
        "Once again, let's verify that the loss is now lower:"
      ]
    },
    {
      "cell_type": "code",
      "metadata": {
        "colab": {
          "base_uri": "https://localhost:8080/"
        },
        "id": "hyRTIcianTT5",
        "outputId": "ab9b208a-64eb-4380-bef6-3c12077e8338"
      },
      "source": [
        "# Calculate loss\n",
        "preds = model(inputs)\n",
        "loss = mse(preds, targets)\n",
        "loss_after_all_epochs_of_GD = loss.item()\n",
        "print(f'Loss at init: {loss_at_init}')\n",
        "print(f'Loss at the end: {loss_after_all_epochs_of_GD}')"
      ],
      "execution_count": null,
      "outputs": [
        {
          "output_type": "stream",
          "name": "stdout",
          "text": [
            "Loss at init: 44663.7578125\n",
            "Loss at the end: 239.5135955810547\n"
          ]
        }
      ]
    },
    {
      "cell_type": "markdown",
      "metadata": {
        "id": "ukdoSi6GnTT5"
      },
      "source": [
        "The loss is now much lower than its initial value. Let's look at the model's predictions and compare them with the targets."
      ]
    },
    {
      "cell_type": "code",
      "metadata": {
        "colab": {
          "base_uri": "https://localhost:8080/"
        },
        "id": "iTLru5BEnTT5",
        "outputId": "9d7bdc1a-d607-400e-dcc8-57074c85357c"
      },
      "source": [
        "# Predictions\n",
        "preds"
      ],
      "execution_count": null,
      "outputs": [
        {
          "output_type": "execute_result",
          "data": {
            "text/plain": [
              "tensor([[ 57.7357,  72.1069],\n",
              "        [ 66.6003, 103.8609],\n",
              "        [153.2741, 122.8145],\n",
              "        [ 21.5797,  46.6915],\n",
              "        [ 74.7240, 119.2392]], grad_fn=<AddBackward0>)"
            ]
          },
          "metadata": {},
          "execution_count": 38
        }
      ]
    },
    {
      "cell_type": "code",
      "metadata": {
        "colab": {
          "base_uri": "https://localhost:8080/"
        },
        "id": "Rr6ziSibnTT6",
        "outputId": "ac44bdf9-66c7-46b2-ace4-80c0dd0b8dc6"
      },
      "source": [
        "# Targets\n",
        "targets"
      ],
      "execution_count": null,
      "outputs": [
        {
          "output_type": "execute_result",
          "data": {
            "text/plain": [
              "tensor([[ 56.,  70.],\n",
              "        [ 81., 101.],\n",
              "        [119., 133.],\n",
              "        [ 22.,  37.],\n",
              "        [103., 119.]])"
            ]
          },
          "metadata": {},
          "execution_count": 39
        }
      ]
    },
    {
      "cell_type": "markdown",
      "metadata": {
        "id": "y_N5rDgdnTT6"
      },
      "source": [
        "The predictions are now quite close to the target variables. We can get even better results by training for a few more epochs. "
      ]
    },
    {
      "cell_type": "markdown",
      "source": [
        "## Exercice 3: Implement Linear regression with SGD (instead of full batch GD)\n"
      ],
      "metadata": {
        "id": "wjxeDlC9iuUp"
      }
    },
    {
      "cell_type": "code",
      "source": [
        "#@title  New dataset\n",
        "# Input (temp, rainfall, humidity)\n",
        "inputs = np.array([[73, 67, 43], \n",
        "                   [91, 88, 64], \n",
        "                   [87, 134, 58], \n",
        "                   [102, 43, 37], \n",
        "                   [69, 96, 70], \n",
        "                   [74, 66, 43], \n",
        "                   [91, 87, 65], \n",
        "                   [88, 134, 59], \n",
        "                   [101, 44, 37], \n",
        "                   [68, 96, 71], \n",
        "                   [73, 66, 44], \n",
        "                   [92, 87, 64], \n",
        "                   [87, 135, 57], \n",
        "                   [103, 43, 36], \n",
        "                   [68, 97, 70]], \n",
        "                  dtype='float32')\n",
        "\n",
        "# Targets (apples, oranges)\n",
        "targets = np.array([[56, 70], \n",
        "                    [81, 101], \n",
        "                    [119, 133], \n",
        "                    [22, 37], \n",
        "                    [103, 119],\n",
        "                    [57, 69], \n",
        "                    [80, 102], \n",
        "                    [118, 132], \n",
        "                    [21, 38], \n",
        "                    [104, 118], \n",
        "                    [57, 69], \n",
        "                    [82, 100], \n",
        "                    [118, 134], \n",
        "                    [20, 38], \n",
        "                    [102, 120]], \n",
        "                   dtype='float32')\n",
        "\n",
        "inputs = torch.from_numpy(inputs)\n",
        "targets = torch.from_numpy(targets)"
      ],
      "metadata": {
        "id": "LW1yo_A0ISgb",
        "cellView": "form"
      },
      "execution_count": null,
      "outputs": []
    },
    {
      "cell_type": "code",
      "source": [
        "#@title Adapt the train_with_GD into train_with_SGD : you should observe that the SGD algorithm is more efficient than GD\n",
        "def train_with_SGD(inputs, targets, w, b, epochs=100):\n",
        "    raise Exception('Exercise 3: You should implement this function')\n",
        "    \n",
        "\n",
        "def run_method_and_return_loss(method, w0, b0):\n",
        "    if method=='SGD':\n",
        "      train_function = train_with_SGD\n",
        "    else:\n",
        "      train_function = train_with_GD\n",
        "    w = w0.clone().requires_grad_()\n",
        "    b = b0.clone().requires_grad_()\n",
        "    def model(inputs):\n",
        "        return inputs @ w.t() +  b\n",
        "    with torch.no_grad():\n",
        "        preds = model(inputs)\n",
        "        loss_at_init = mse(preds, targets).item()\n",
        "    # perform  for  100 epochs\n",
        "    train_function(inputs, targets, w, b, epochs=100)\n",
        "    with torch.no_grad():\n",
        "        preds = model(inputs)\n",
        "        loss_at_end = mse(preds, targets).item()\n",
        "    return loss_at_init, loss_at_end\n",
        "\n",
        "def test_exercise3():\n",
        "    # init weights and biases\n",
        "    w0 = torch.randn(2,3)\n",
        "    b0 = torch.randn(2)\n",
        "    loss_at_init, loss_at_end = run_method_and_return_loss('GD', w0, b0)\n",
        "    print(f'Loss at init of  GD: {loss_at_init}')\n",
        "    print(f'Loss after 100 epochs of GD: {loss_at_end}')\n",
        "    loss_at_init, loss_at_end = run_method_and_return_loss('SGD', w0, b0)\n",
        "    print(f'Loss at init of SGD: {loss_at_init}')\n",
        "    print(f'Loss after 100 epochs of SGD: {loss_at_end}')\n",
        "\n",
        "test_exercise3()\n",
        "    "
      ],
      "metadata": {
        "colab": {
          "base_uri": "https://localhost:8080/"
        },
        "id": "EaBNnEo6jKEn",
        "outputId": "7dfcf5ee-d384-4940-bc0c-7d5bf8abda1c"
      },
      "execution_count": null,
      "outputs": [
        {
          "output_type": "stream",
          "name": "stdout",
          "text": [
            "Loss at init of  GD: 49541.7578125\n",
            "Loss after 100 epochs of GD: 214.45152282714844\n",
            "Loss at init of SGD: 49541.7578125\n",
            "Loss after 100 epochs of SGD: 1.1169384717941284\n"
          ]
        }
      ]
    },
    {
      "cell_type": "markdown",
      "metadata": {
        "id": "ifwtEcBknTT6"
      },
      "source": [
        "## Linear regression using PyTorch built-ins\n",
        "\n",
        "We've implemented linear regression & gradient descent model using some basic tensor operations. However, since this is a common pattern in deep learning, PyTorch provides several built-in functions and classes to make it easy to create and train models with just a few lines of code.\n",
        "\n",
        "Let's begin by importing the `torch.nn` package from PyTorch, which contains utility classes for building neural networks."
      ]
    },
    {
      "cell_type": "code",
      "metadata": {
        "id": "cZvaMwb4nTT6"
      },
      "source": [
        "import torch.nn as nn"
      ],
      "execution_count": null,
      "outputs": []
    },
    {
      "cell_type": "markdown",
      "metadata": {
        "id": "R6Q0ctuCnTT6"
      },
      "source": [
        "### Dataset and DataLoader\n",
        "\n",
        "We'll create a `TensorDataset`, which allows access to rows from `inputs` and `targets` as tuples, and provides standard APIs for working with many different types of datasets in PyTorch."
      ]
    },
    {
      "cell_type": "code",
      "metadata": {
        "id": "Ilbt8aRKnTT6"
      },
      "source": [
        "from torch.utils.data import TensorDataset"
      ],
      "execution_count": null,
      "outputs": []
    },
    {
      "cell_type": "code",
      "metadata": {
        "colab": {
          "base_uri": "https://localhost:8080/"
        },
        "id": "XUzVuPNznTT6",
        "outputId": "0bc759fe-4418-40b6-910e-cd331446bf54"
      },
      "source": [
        "# Define dataset\n",
        "train_ds = TensorDataset(inputs, targets)\n",
        "train_ds[0:3]"
      ],
      "execution_count": null,
      "outputs": [
        {
          "output_type": "execute_result",
          "data": {
            "text/plain": [
              "(tensor([[ 73.,  67.,  43.],\n",
              "         [ 91.,  88.,  64.],\n",
              "         [ 87., 134.,  58.]]), tensor([[ 56.,  70.],\n",
              "         [ 81., 101.],\n",
              "         [119., 133.]]))"
            ]
          },
          "metadata": {},
          "execution_count": 44
        }
      ]
    },
    {
      "cell_type": "markdown",
      "metadata": {
        "id": "nTN9tmCinTT6"
      },
      "source": [
        "The `TensorDataset` allows us to access a small section of the training data using the array indexing notation (`[0:3]` in the above code). It returns a tuple with two elements. The first element contains the input variables for the selected rows, and the second contains the targets."
      ]
    },
    {
      "cell_type": "markdown",
      "metadata": {
        "id": "RY9KCD5InTT6"
      },
      "source": [
        "We'll also create a `DataLoader`, which can split the data into batches of a predefined size while training. It also provides other utilities like shuffling and random sampling of the data."
      ]
    },
    {
      "cell_type": "code",
      "metadata": {
        "id": "Ln7VxDopnTT6"
      },
      "source": [
        "from torch.utils.data import DataLoader"
      ],
      "execution_count": null,
      "outputs": []
    },
    {
      "cell_type": "code",
      "metadata": {
        "id": "RujVrFSpnTT7"
      },
      "source": [
        "# Define data loader\n",
        "batch_size = 5\n",
        "train_dl = DataLoader(train_ds, batch_size, shuffle=True)"
      ],
      "execution_count": null,
      "outputs": []
    },
    {
      "cell_type": "markdown",
      "metadata": {
        "id": "_wiNLw91nTT7"
      },
      "source": [
        "We can use the data loader in a `for` loop. Let's look at an example."
      ]
    },
    {
      "cell_type": "code",
      "metadata": {
        "colab": {
          "base_uri": "https://localhost:8080/"
        },
        "id": "jWQ_rmNenTT7",
        "outputId": "59d20c8e-9aef-44cd-9358-127bd99f509b"
      },
      "source": [
        "for xb, yb in train_dl:\n",
        "    print(xb)\n",
        "    print(yb)\n",
        "    break"
      ],
      "execution_count": null,
      "outputs": [
        {
          "output_type": "stream",
          "name": "stdout",
          "text": [
            "tensor([[ 88., 134.,  59.],\n",
            "        [103.,  43.,  36.],\n",
            "        [ 92.,  87.,  64.],\n",
            "        [ 91.,  87.,  65.],\n",
            "        [ 73.,  66.,  44.]])\n",
            "tensor([[118., 132.],\n",
            "        [ 20.,  38.],\n",
            "        [ 82., 100.],\n",
            "        [ 80., 102.],\n",
            "        [ 57.,  69.]])\n"
          ]
        }
      ]
    },
    {
      "cell_type": "markdown",
      "metadata": {
        "id": "hOaqVznxnTT7"
      },
      "source": [
        "In each iteration, the data loader returns one batch of data with the given batch size. If `shuffle` is set to `True`, it shuffles the training data before creating batches. Shuffling helps randomize the input to the optimization algorithm, leading to a faster reduction in the loss."
      ]
    },
    {
      "cell_type": "markdown",
      "metadata": {
        "id": "Kt2US8ZVnTT7"
      },
      "source": [
        "### nn.Linear\n",
        "\n",
        "Instead of initializing the weights & biases manually, we can define the model using the `nn.Linear` class from PyTorch, which does it automatically."
      ]
    },
    {
      "cell_type": "code",
      "metadata": {
        "colab": {
          "base_uri": "https://localhost:8080/"
        },
        "id": "zo2YVY8unTT7",
        "outputId": "3952b651-ce5c-48f3-c43e-f26ececfc19e"
      },
      "source": [
        "# Define model\n",
        "model = nn.Linear(3, 2)\n",
        "print(model.weight)\n",
        "print(model.bias)"
      ],
      "execution_count": null,
      "outputs": [
        {
          "output_type": "stream",
          "name": "stdout",
          "text": [
            "Parameter containing:\n",
            "tensor([[ 0.3117, -0.0209, -0.1571],\n",
            "        [-0.0426,  0.0636, -0.4653]], requires_grad=True)\n",
            "Parameter containing:\n",
            "tensor([ 0.1909, -0.5006], requires_grad=True)\n"
          ]
        }
      ]
    },
    {
      "cell_type": "markdown",
      "metadata": {
        "id": "CUIEeKxLnTT7"
      },
      "source": [
        "PyTorch models also have a helpful `.parameters` method, which returns a list containing all the weights and bias matrices present in the model. For our linear regression model, we have one weight matrix and one bias matrix."
      ]
    },
    {
      "cell_type": "code",
      "metadata": {
        "colab": {
          "base_uri": "https://localhost:8080/"
        },
        "id": "r5HQ9vwdnTT7",
        "outputId": "91bd572e-8e28-44fd-feb5-bb0b3804d06b"
      },
      "source": [
        "# Parameters\n",
        "list(model.parameters())"
      ],
      "execution_count": null,
      "outputs": [
        {
          "output_type": "execute_result",
          "data": {
            "text/plain": [
              "[Parameter containing:\n",
              " tensor([[ 0.3117, -0.0209, -0.1571],\n",
              "         [-0.0426,  0.0636, -0.4653]], requires_grad=True),\n",
              " Parameter containing:\n",
              " tensor([ 0.1909, -0.5006], requires_grad=True)]"
            ]
          },
          "metadata": {},
          "execution_count": 49
        }
      ]
    },
    {
      "cell_type": "markdown",
      "metadata": {
        "id": "iwKcHBRznTT7"
      },
      "source": [
        "We can use the model to generate predictions in the same way as before."
      ]
    },
    {
      "cell_type": "code",
      "metadata": {
        "colab": {
          "base_uri": "https://localhost:8080/"
        },
        "id": "aQJUtX9cnTT7",
        "outputId": "2e4fe614-8532-4d86-9436-79fb8ba2fc3b"
      },
      "source": [
        "# Generate predictions\n",
        "preds = model(inputs)\n",
        "preds"
      ],
      "execution_count": null,
      "outputs": [
        {
          "output_type": "execute_result",
          "data": {
            "text/plain": [
              "tensor([[ 14.7909, -19.3537],\n",
              "        [ 16.6639, -28.5551],\n",
              "        [ 15.3963, -22.6671],\n",
              "        [ 25.2764, -19.3234],\n",
              "        [  8.6955, -29.9011],\n",
              "        [ 15.1236, -19.4599],\n",
              "        [ 16.5277, -29.0840],\n",
              "        [ 15.5510, -23.1749],\n",
              "        [ 24.9438, -19.2173],\n",
              "        [  8.2267, -30.3238],\n",
              "        [ 14.6547, -19.8826],\n",
              "        [ 16.9965, -28.6613],\n",
              "        [ 15.5325, -22.1382],\n",
              "        [ 25.7453, -18.9007],\n",
              "        [  8.3628, -29.7950]], grad_fn=<AddmmBackward0>)"
            ]
          },
          "metadata": {},
          "execution_count": 50
        }
      ]
    },
    {
      "cell_type": "markdown",
      "metadata": {
        "id": "_GEW6PaCnTT7"
      },
      "source": [
        "### Loss Function\n",
        "\n",
        "Instead of defining a loss function manually, we can use the built-in loss function `mse_loss`."
      ]
    },
    {
      "cell_type": "code",
      "metadata": {
        "id": "vBtR_zwAnTT7"
      },
      "source": [
        "# Import nn.functional\n",
        "import torch.nn.functional as F"
      ],
      "execution_count": null,
      "outputs": []
    },
    {
      "cell_type": "markdown",
      "metadata": {
        "id": "dof53gOVnTT7"
      },
      "source": [
        "The `nn.functional` package contains many useful loss functions and several other utilities. "
      ]
    },
    {
      "cell_type": "code",
      "metadata": {
        "id": "rRDSPR-7nTT7"
      },
      "source": [
        "# Define loss function\n",
        "loss_fn = F.mse_loss"
      ],
      "execution_count": null,
      "outputs": []
    },
    {
      "cell_type": "markdown",
      "metadata": {
        "id": "jcaVT6V-nTT7"
      },
      "source": [
        "Let's compute the loss for the current predictions of our model."
      ]
    },
    {
      "cell_type": "code",
      "metadata": {
        "colab": {
          "base_uri": "https://localhost:8080/"
        },
        "id": "MOfR_XE-nTT7",
        "outputId": "e49375ae-8071-49e3-dd53-ac919e8008fd"
      },
      "source": [
        "loss = loss_fn(model(inputs), targets)\n",
        "print(loss)"
      ],
      "execution_count": null,
      "outputs": [
        {
          "output_type": "stream",
          "name": "stdout",
          "text": [
            "tensor(9982.5195, grad_fn=<MseLossBackward0>)\n"
          ]
        }
      ]
    },
    {
      "cell_type": "markdown",
      "metadata": {
        "id": "NchjNa8VnTT7"
      },
      "source": [
        "### Optimizer\n",
        "\n",
        "Instead of manually manipulating the model's weights & biases using gradients, we can use the optimizer `optim.SGD`. SGD is short for \"stochastic gradient descent\". The term _stochastic_ indicates that samples are selected in random batches instead of as a single group."
      ]
    },
    {
      "cell_type": "code",
      "metadata": {
        "id": "T3kLIKfqnTT7"
      },
      "source": [
        "# Define optimizer\n",
        "opt = torch.optim.SGD(model.parameters(), lr=1e-5)"
      ],
      "execution_count": null,
      "outputs": []
    },
    {
      "cell_type": "markdown",
      "metadata": {
        "id": "ACDhnpd3nTT8"
      },
      "source": [
        "Note that `model.parameters()` is passed as an argument to `optim.SGD` so that the optimizer knows which matrices should be modified during the update step. Also, we can specify a learning rate that controls the amount by which the parameters are modified."
      ]
    },
    {
      "cell_type": "markdown",
      "metadata": {
        "id": "eFfOxwMjnTT8"
      },
      "source": [
        "### Train the model\n",
        "\n",
        "We are now ready to train the model. We'll follow the same process to implement gradient descent:\n",
        "\n",
        "1. Generate predictions\n",
        "\n",
        "2. Calculate the loss\n",
        "\n",
        "3. Compute gradients w.r.t the weights and biases\n",
        "\n",
        "4. Adjust the weights by subtracting a small quantity proportional to the gradient\n",
        "\n",
        "5. Reset the gradients to zero\n",
        "\n",
        "The only change is that we'll work batches of data instead of processing the entire training data in every iteration. Let's define a utility function `fit` that trains the model for a given number of epochs."
      ]
    },
    {
      "cell_type": "code",
      "metadata": {
        "id": "s4G-FSTAnTT8"
      },
      "source": [
        "# Utility function to train the model\n",
        "def train_with_MiniBatchSGD(num_epochs, model, loss_fn, opt, train_dl):\n",
        "    \n",
        "    # Repeat for given number of epochs\n",
        "    for epoch in range(num_epochs):\n",
        "        \n",
        "        # Train with batches of data\n",
        "        for xb,yb in train_dl:\n",
        "            \n",
        "            # 1. Generate predictions\n",
        "            pred = model(xb)\n",
        "            \n",
        "            # 2. Calculate loss\n",
        "            loss = loss_fn(pred, yb)\n",
        "            \n",
        "            # 3. Compute gradients\n",
        "            loss.backward()\n",
        "            \n",
        "            # 4. Update parameters using gradients\n",
        "            opt.step()\n",
        "            \n",
        "            # 5. Reset the gradients to zero\n",
        "            opt.zero_grad()\n",
        "        \n",
        "        # Print the progress\n",
        "        if (epoch+1) % 10 == 0:\n",
        "            print('Epoch [{}/{}], Loss: {:.4f}'.format(epoch+1, num_epochs, loss.item()))"
      ],
      "execution_count": null,
      "outputs": []
    },
    {
      "cell_type": "markdown",
      "metadata": {
        "id": "JsIQmUfvnTT8"
      },
      "source": [
        "Some things to note above:\n",
        "\n",
        "* We use the data loader defined earlier to get batches of data for every iteration.\n",
        "\n",
        "* Instead of updating parameters (weights and biases) manually, we use `opt.step` to perform the update and `opt.zero_grad` to reset the gradients to zero.\n",
        "\n",
        "* We've also added a log statement that prints the loss from the last batch of data for every 10th epoch to track training progress. `loss.item` returns the actual value stored in the loss tensor.\n",
        "\n",
        "Let's train the model for 100 epochs."
      ]
    },
    {
      "cell_type": "code",
      "metadata": {
        "colab": {
          "base_uri": "https://localhost:8080/"
        },
        "id": "QL9O4M3knTT8",
        "outputId": "9f84489a-546b-4578-8f5d-8c4e9a0458e0"
      },
      "source": [
        "train_with_MiniBatchSGD(100, model, loss_fn, opt, train_dl)"
      ],
      "execution_count": null,
      "outputs": [
        {
          "output_type": "stream",
          "name": "stdout",
          "text": [
            "Epoch [10/100], Loss: 394.0146\n",
            "Epoch [20/100], Loss: 36.3724\n",
            "Epoch [30/100], Loss: 334.7254\n",
            "Epoch [40/100], Loss: 258.8904\n",
            "Epoch [50/100], Loss: 132.3746\n",
            "Epoch [60/100], Loss: 107.4595\n",
            "Epoch [70/100], Loss: 93.2856\n",
            "Epoch [80/100], Loss: 84.1886\n",
            "Epoch [90/100], Loss: 43.4242\n",
            "Epoch [100/100], Loss: 51.9278\n"
          ]
        }
      ]
    },
    {
      "cell_type": "markdown",
      "metadata": {
        "id": "ACqBspYSnTT8"
      },
      "source": [
        "Let's generate predictions using our model and verify that they're close to our targets."
      ]
    },
    {
      "cell_type": "code",
      "metadata": {
        "colab": {
          "base_uri": "https://localhost:8080/"
        },
        "id": "MIJJvhEPnTT8",
        "outputId": "645f6427-14c8-46bc-f2d1-90ec6df98e9d"
      },
      "source": [
        "# Generate predictions\n",
        "preds = model(inputs)\n",
        "preds"
      ],
      "execution_count": null,
      "outputs": [
        {
          "output_type": "execute_result",
          "data": {
            "text/plain": [
              "tensor([[ 58.5256,  71.6221],\n",
              "        [ 79.7314,  95.9133],\n",
              "        [120.0884, 140.5264],\n",
              "        [ 30.0885,  45.4646],\n",
              "        [ 92.5434, 105.9162],\n",
              "        [ 57.4463,  70.5901],\n",
              "        [ 79.1046,  95.1195],\n",
              "        [120.1754, 140.6851],\n",
              "        [ 31.1679,  46.4966],\n",
              "        [ 92.9959, 106.1544],\n",
              "        [ 57.8988,  70.8283],\n",
              "        [ 78.6520,  94.8813],\n",
              "        [120.7152, 141.3202],\n",
              "        [ 29.6360,  45.2264],\n",
              "        [ 93.6227, 106.9482]], grad_fn=<AddmmBackward0>)"
            ]
          },
          "metadata": {},
          "execution_count": 57
        }
      ]
    },
    {
      "cell_type": "code",
      "metadata": {
        "colab": {
          "base_uri": "https://localhost:8080/"
        },
        "id": "6p4YjlHHnTT8",
        "outputId": "67ef2b4c-2045-4cdf-dd77-6b93102a99a8"
      },
      "source": [
        "# Compare with targets\n",
        "targets"
      ],
      "execution_count": null,
      "outputs": [
        {
          "output_type": "execute_result",
          "data": {
            "text/plain": [
              "tensor([[ 56.,  70.],\n",
              "        [ 81., 101.],\n",
              "        [119., 133.],\n",
              "        [ 22.,  37.],\n",
              "        [103., 119.],\n",
              "        [ 57.,  69.],\n",
              "        [ 80., 102.],\n",
              "        [118., 132.],\n",
              "        [ 21.,  38.],\n",
              "        [104., 118.],\n",
              "        [ 57.,  69.],\n",
              "        [ 82., 100.],\n",
              "        [118., 134.],\n",
              "        [ 20.,  38.],\n",
              "        [102., 120.]])"
            ]
          },
          "metadata": {},
          "execution_count": 58
        }
      ]
    },
    {
      "cell_type": "markdown",
      "metadata": {
        "id": "tjA8xLw_nTT8"
      },
      "source": [
        "Indeed, the predictions are quite close to our targets. We have a trained a reasonably good model to predict crop yields for apples and oranges by looking at the average temperature, rainfall, and humidity in a region. We can use it to make predictions of crop yields for new regions by passing a batch containing a single row of input."
      ]
    },
    {
      "cell_type": "code",
      "metadata": {
        "colab": {
          "base_uri": "https://localhost:8080/"
        },
        "id": "p5B9idWGnTT8",
        "outputId": "85b5d2b4-1ff2-4f05-8164-14394bde7a86"
      },
      "source": [
        "with torch.no_grad():\n",
        "    print(model(torch.tensor([[75, 63, 44.]])))"
      ],
      "execution_count": null,
      "outputs": [
        {
          "output_type": "stream",
          "name": "stdout",
          "text": [
            "tensor([[54.8435, 67.7720]])\n"
          ]
        }
      ]
    },
    {
      "cell_type": "code",
      "source": [
        ""
      ],
      "metadata": {
        "id": "MQNchilpkDri"
      },
      "execution_count": null,
      "outputs": []
    },
    {
      "cell_type": "markdown",
      "source": [
        "## Problem: Training an MLP classifier on FashionMNIST\n",
        "FashionMNIST is a classification benchmark, where images are associated to classes. In this exercise, you shall have to adapt the linear regression to this context. The main adaptation steps are as follows:\n",
        "* Change the dataset (using TorchVision)\n",
        "* Replace the mere linear model by an MLP\n",
        "* Change the MSE loss to a CrossEntropy loss"
      ],
      "metadata": {
        "id": "pMWc-n3L-eV_"
      }
    },
    {
      "cell_type": "markdown",
      "metadata": {
        "id": "aRI-NwO0qmXV"
      },
      "source": [
        "\n",
        "### Working with data\n",
        "Remember that PyTorch has two `primitives to work with data <https://pytorch.org/docs/stable/data.html>`_:\n",
        "``torch.utils.data.DataLoader`` and ``torch.utils.data.Dataset``.\n",
        "``Dataset`` stores the samples and their corresponding labels, and ``DataLoader`` wraps an iterable around\n",
        "the ``Dataset``.\n",
        "\n",
        "PyTorch offers domain-specific libraries such as `TorchText <https://pytorch.org/text/stable/index.html>`_,\n",
        "`TorchVision <https://pytorch.org/vision/stable/index.html>`_, and `TorchAudio <https://pytorch.org/audio/stable/index.html>`_,\n",
        "all of which include datasets. For this tutorial, we  will be using a TorchVision dataset.\n",
        "\n",
        "The ``torchvision.datasets`` module contains ``Dataset`` objects for many real-world vision data like\n",
        "CIFAR, COCO (`full list here <https://pytorch.org/vision/stable/datasets.html>`_). In this tutorial, we\n",
        "use the FashionMNIST dataset. \n",
        "Each training and test example is assigned to one of the following labels:\n",
        "\n",
        "| Label | Description |\n",
        "| --- | --- |\n",
        "| 0 | T-shirt/top |\n",
        "| 1 | Trouser |\n",
        "| 2 | Pullover |\n",
        "| 3 | Dress |\n",
        "| 4 | Coat |\n",
        "| 5 | Sandal |\n",
        "| 6 | Shirt |\n",
        "| 7 | Sneaker |\n",
        "| 8 | Bag |\n",
        "| 9 | Ankle boot |\n",
        "\n",
        "\n",
        "\n",
        "Every TorchVision ``Dataset`` includes an argument: ``transform``\n",
        " to modify the samples.\n",
        "\n",
        "\n"
      ]
    },
    {
      "cell_type": "code",
      "execution_count": null,
      "metadata": {
        "id": "Myk5PX3vqmXa"
      },
      "outputs": [],
      "source": [
        "# Import TorchVision utilities\n",
        "from torchvision import datasets\n",
        "from torchvision.transforms import ToTensor, Lambda, Compose\n",
        "\n",
        "# Download training data from open datasets.\n",
        "training_data = datasets.FashionMNIST(\n",
        "    root=\"data\",\n",
        "    train=True,\n",
        "    download=True,\n",
        "    transform=ToTensor(),\n",
        ")\n",
        "\n",
        "# Download test data from open datasets.\n",
        "test_data = datasets.FashionMNIST(\n",
        "    root=\"data\",\n",
        "    train=False,\n",
        "    download=True,\n",
        "    transform=ToTensor(),\n",
        ")"
      ]
    },
    {
      "cell_type": "markdown",
      "metadata": {
        "id": "z4q4DfnEqmXa"
      },
      "source": [
        "We pass the ``Dataset`` as an argument to ``DataLoader``. This wraps an iterable over our dataset, and supports\n",
        "automatic batching, sampling, shuffling and multiprocess data loading. Here we define a batch size of 64, i.e. each element\n",
        "in the dataloader iterable will return a batch of 64 features and labels.\n",
        "\n"
      ]
    },
    {
      "cell_type": "code",
      "execution_count": null,
      "metadata": {
        "id": "j9_YvmGhqmXb",
        "colab": {
          "base_uri": "https://localhost:8080/"
        },
        "outputId": "1da13b43-ee0d-46ae-f904-d0abfa89fb1e"
      },
      "outputs": [
        {
          "output_type": "stream",
          "name": "stdout",
          "text": [
            "Shape of X [N, C, H, W]:  torch.Size([64, 1, 28, 28])\n",
            "Shape of y:  torch.Size([64]) torch.int64\n"
          ]
        }
      ],
      "source": [
        "batch_size = 64\n",
        "\n",
        "# Create data loaders.\n",
        "train_dataloader = DataLoader(training_data, batch_size=batch_size)\n",
        "test_dataloader = DataLoader(test_data, batch_size=batch_size)\n",
        "\n",
        "# Get one batch of data and print its tensor shape\n",
        "X,y = iter(train_dataloader).next()\n",
        "print(\"Shape of X [N, C, H, W]: \", X.shape)\n",
        "print(\"Shape of y: \", y.shape, y.dtype)"
      ]
    },
    {
      "cell_type": "markdown",
      "metadata": {
        "id": "8Tl2PoDsqmXc"
      },
      "source": [
        "--------------\n",
        "\n",
        "\n"
      ]
    },
    {
      "cell_type": "markdown",
      "metadata": {
        "id": "-_4pCW0HqmXd"
      },
      "source": [
        "### Exercise 4: Creating  the MLP model\n",
        "\n",
        "To define a MLP, you may rely on `nn.Sequential <https://pytorch.org/docs/stable/generated/torch.nn.Sequential.html>`. It implements a sequential container modules made from a sequence of `nn.Module`. The goal here is to have the following sequence:\n",
        "\n",
        "$$\n",
        "I\\in\\mathbb R^{28}\\otimes\\mathbb R^{28}  \n",
        "\\xrightarrow{\\mathrm{flatten}}{} \\mathbb R^{28\\times 28}=\\mathbb R^{512}\n",
        "\\xrightarrow{\\mathrm{Linear+ReLU}}{} \\mathbb R^{512}\n",
        "\\xrightarrow{\\mathrm{Linear+ReLU}}{} \\mathbb R^{512}\n",
        "\\xrightarrow{\\mathrm{Linear}}{} \\mathbb R^{n_c}\n",
        "$$\n",
        "\n",
        "You shall implement this archticture, and determine what is the logical value for $n_c$ in our settings."
      ]
    },
    {
      "cell_type": "code",
      "execution_count": 88,
      "metadata": {
        "id": "yJKIqGvfqmXd",
        "colab": {
          "base_uri": "https://localhost:8080/"
        },
        "outputId": "f2ef1584-ea8b-4c95-d584-285a59dfaddf"
      },
      "outputs": [
        {
          "output_type": "stream",
          "name": "stdout",
          "text": [
            "Exercise 4: [NOK]\n",
            "The model should be a nn.Sequential instance not <class 'torch.nn.modules.linear.Linear'>\n"
          ]
        }
      ],
      "source": [
        "debug = True\n",
        "def create_MLP():\n",
        "    model = nn.Linear(512,512)\n",
        "    return model\n",
        "\n",
        "def test_exercise4():\n",
        "    model = create_MLP()\n",
        "    if not isinstance(model, nn.Sequential):\n",
        "        print('Exercise 4: [NOK]')\n",
        "        if debug:\n",
        "            print(f'The model should be a nn.Sequential instance not {type(model)}')\n",
        "        return\n",
        "\n",
        "    if len(model) != 6:\n",
        "        print('Exercise 4: [NOK]')\n",
        "        if debug:\n",
        "            print(f'The model should be 6 layers not {len(model)}')\n",
        "        return\n",
        "    \n",
        "    model_device = next(model.parameters()).device\n",
        "    expected_device = torch.empty(1).to(device).device\n",
        "    if model_device != expected_device:\n",
        "        print('Exercise 4: [NOK]')\n",
        "        if debug:\n",
        "            print(f'The model should run on {expected_device} not on {model_device}')\n",
        "        return\n",
        "    \n",
        "    X,y = iter(train_dataloader).next()\n",
        "    pred = model(X.to(device))\n",
        "    expected_shape = torch.Size((batch_size, 10))\n",
        "    if pred.shape != expected_shape:\n",
        "        print('Exercise 4: [NOK]')\n",
        "        if debug:\n",
        "            print(f'The model predictions should be shaped as {expected_shape} not as {pred.shape}')\n",
        "        return\n",
        "\n",
        "    print('Exercise 4: [OK]')\n",
        "    \n",
        "    if debug:\n",
        "        print(model)\n",
        "  \n",
        "test_exercise4()"
      ]
    },
    {
      "cell_type": "markdown",
      "metadata": {
        "id": "-cC1lU9CqmXe"
      },
      "source": [
        "--------------\n",
        "\n",
        "\n"
      ]
    },
    {
      "cell_type": "markdown",
      "metadata": {
        "id": "HXgegsomqmXe"
      },
      "source": [
        "### Exercise 5: Defining the loss function.\n",
        "To train a model, we need a `loss function <https://pytorch.org/docs/stable/nn.html#loss-functions>`. \n",
        "The MSE loss is not the usually selected one for classification problems. You should propose a better suited loss.\n",
        "\n"
      ]
    },
    {
      "cell_type": "code",
      "execution_count": 89,
      "metadata": {
        "id": "MhiQYxufqmXf",
        "colab": {
          "base_uri": "https://localhost:8080/"
        },
        "outputId": "81c51af1-66d4-422f-a913-4791b9ab1ba4"
      },
      "outputs": [
        {
          "output_type": "stream",
          "name": "stdout",
          "text": [
            "Exercise 5: [NOK]\n",
            "The loss should be 2.302585092994046 not as 1.0\n"
          ]
        },
        {
          "output_type": "stream",
          "name": "stderr",
          "text": [
            "/usr/local/lib/python3.7/dist-packages/torch/nn/modules/loss.py:520: UserWarning: Using a target size (torch.Size([1])) that is different to the input size (torch.Size([1, 10])). This will likely lead to incorrect results due to broadcasting. Please ensure they have the same size.\n",
            "  return F.mse_loss(input, target, reduction=self.reduction)\n"
          ]
        }
      ],
      "source": [
        "def create_loss():\n",
        "    loss_fn = nn.MSELoss()\n",
        "    return loss_fn\n",
        "\n",
        "def test_exercise5():\n",
        "    loss_fn = create_loss()\n",
        "    y = torch.arange(1,dtype=torch.long).to(device)\n",
        "    pred = torch.ones((1,10),dtype=float).to(device)\n",
        "    loss = loss_fn(pred, y).item()\n",
        "    expected_loss = np.log(10) # entropy of a random [0-9] source\n",
        "    if loss != expected_loss:\n",
        "        print('Exercise 5: [NOK]')\n",
        "        if debug:\n",
        "            print(f'The loss should be {expected_loss} not as {loss}')\n",
        "        return\n",
        "\n",
        "    print('Exercise 5: [OK]') \n",
        "\n",
        "test_exercise5()\n"
      ]
    },
    {
      "cell_type": "markdown",
      "metadata": {
        "id": "lAsVNHnpqmXf"
      },
      "source": [
        "### Exercise 6: Performing the optimization\n",
        "Getting inspired by the [Linear Regression example](#scrollTo=s4G-FSTAnTT8), complete the following function (single epoch) and launch the whole training procedure (remaining cells).\n"
      ]
    },
    {
      "cell_type": "code",
      "execution_count": null,
      "metadata": {
        "id": "TJJoAfhsqmXf"
      },
      "outputs": [],
      "source": [
        "def perform_one_epoch(dataloader, model, loss_fn, optimizer):\n",
        "    size = len(dataloader.dataset)\n",
        "    model.train()\n",
        "    for batch, (X, y) in enumerate(dataloader):\n",
        "        X, y = X.to(device), y.to(device)\n",
        "\n",
        "        # Compute prediction error and do the backpropagation and SGD step\n",
        "        raise Exception('Exercise 6: You should implement this part of the algorithm')\n",
        "\n",
        "        # Log the loss and progress\n",
        "        if batch % 100 == 0:\n",
        "            loss, current = loss.item(), batch * len(X)\n",
        "            print(f\"loss: {loss:>7f}  [{current:>5d}/{size:>5d}]\")"
      ]
    },
    {
      "cell_type": "markdown",
      "metadata": {
        "id": "-19lrVa3qmXg"
      },
      "source": [
        "We also check the model's performance against the test dataset to ensure it is learning.\n",
        "\n"
      ]
    },
    {
      "cell_type": "code",
      "execution_count": null,
      "metadata": {
        "id": "oC5UVXgwqmXg"
      },
      "outputs": [],
      "source": [
        "def test(dataloader, model, loss_fn):\n",
        "    size = len(dataloader.dataset)\n",
        "    num_batches = len(dataloader)\n",
        "    model.eval()\n",
        "    test_loss, correct = 0, 0\n",
        "    with torch.no_grad():\n",
        "        for X, y in dataloader:\n",
        "            X, y = X.to(device), y.to(device)\n",
        "            pred = model(X)\n",
        "            test_loss += loss_fn(pred, y).item()\n",
        "            correct += (pred.argmax(1) == y).type(torch.float).sum().item()\n",
        "    test_loss /= num_batches\n",
        "    correct /= size\n",
        "    print(f\"Test Error: \\n Accuracy: {(100*correct):>0.1f}%, Avg loss: {test_loss:>8f} \\n\")"
      ]
    },
    {
      "cell_type": "markdown",
      "metadata": {
        "id": "9Fg7tsMeqmXh"
      },
      "source": [
        "The training process is conducted over several iterations (*epochs*). During each epoch, the model learns\n",
        "parameters to make better predictions. We print the model's accuracy and loss at each epoch; we'd like to see the\n",
        "accuracy increase and the loss decrease with every epoch.\n",
        "\n"
      ]
    },
    {
      "cell_type": "code",
      "execution_count": null,
      "metadata": {
        "id": "bU_zT4cjqmXh",
        "colab": {
          "base_uri": "https://localhost:8080/"
        },
        "outputId": "9ca231be-7263-4071-c933-c8a28e7dfdfc"
      },
      "outputs": [
        {
          "output_type": "stream",
          "name": "stdout",
          "text": [
            "Epoch 1\n",
            "-------------------------------\n",
            "loss: 2.303785  [    0/60000]\n",
            "loss: 2.285972  [ 6400/60000]\n",
            "loss: 2.264614  [12800/60000]\n",
            "loss: 2.263567  [19200/60000]\n",
            "loss: 2.244000  [25600/60000]\n",
            "loss: 2.221651  [32000/60000]\n",
            "loss: 2.235853  [38400/60000]\n",
            "loss: 2.198303  [44800/60000]\n",
            "loss: 2.199105  [51200/60000]\n",
            "loss: 2.175558  [57600/60000]\n",
            "Test Error: \n",
            " Accuracy: 47.9%, Avg loss: 2.161790 \n",
            "\n",
            "Epoch 2\n",
            "-------------------------------\n",
            "loss: 2.176006  [    0/60000]\n",
            "loss: 2.156810  [ 6400/60000]\n",
            "loss: 2.097935  [12800/60000]\n",
            "loss: 2.118287  [19200/60000]\n",
            "loss: 2.068115  [25600/60000]\n",
            "loss: 2.015451  [32000/60000]\n",
            "loss: 2.052073  [38400/60000]\n",
            "loss: 1.966516  [44800/60000]\n",
            "loss: 1.978436  [51200/60000]\n",
            "loss: 1.912713  [57600/60000]\n",
            "Test Error: \n",
            " Accuracy: 56.8%, Avg loss: 1.900643 \n",
            "\n",
            "Epoch 3\n",
            "-------------------------------\n",
            "loss: 1.936070  [    0/60000]\n",
            "loss: 1.896961  [ 6400/60000]\n",
            "loss: 1.775639  [12800/60000]\n",
            "loss: 1.822379  [19200/60000]\n",
            "loss: 1.716117  [25600/60000]\n",
            "loss: 1.665387  [32000/60000]\n",
            "loss: 1.701725  [38400/60000]\n",
            "loss: 1.588460  [44800/60000]\n",
            "loss: 1.620761  [51200/60000]\n",
            "loss: 1.517576  [57600/60000]\n",
            "Test Error: \n",
            " Accuracy: 62.1%, Avg loss: 1.526064 \n",
            "\n",
            "Epoch 4\n",
            "-------------------------------\n",
            "loss: 1.593470  [    0/60000]\n",
            "loss: 1.552094  [ 6400/60000]\n",
            "loss: 1.395852  [12800/60000]\n",
            "loss: 1.473236  [19200/60000]\n",
            "loss: 1.356728  [25600/60000]\n",
            "loss: 1.347634  [32000/60000]\n",
            "loss: 1.373317  [38400/60000]\n",
            "loss: 1.285923  [44800/60000]\n",
            "loss: 1.325170  [51200/60000]\n",
            "loss: 1.228161  [57600/60000]\n",
            "Test Error: \n",
            " Accuracy: 63.3%, Avg loss: 1.248859 \n",
            "\n",
            "Epoch 5\n",
            "-------------------------------\n",
            "loss: 1.325169  [    0/60000]\n",
            "loss: 1.307895  [ 6400/60000]\n",
            "loss: 1.135985  [12800/60000]\n",
            "loss: 1.246280  [19200/60000]\n",
            "loss: 1.123279  [25600/60000]\n",
            "loss: 1.143503  [32000/60000]\n",
            "loss: 1.173946  [38400/60000]\n",
            "loss: 1.102307  [44800/60000]\n",
            "loss: 1.143605  [51200/60000]\n",
            "loss: 1.067422  [57600/60000]\n",
            "Test Error: \n",
            " Accuracy: 64.6%, Avg loss: 1.081614 \n",
            "\n",
            "Done!\n"
          ]
        }
      ],
      "source": [
        "epochs = 5\n",
        "model = create_MLP()\n",
        "optimizer = torch.optim.SGD(model.parameters(), lr=1e-3)\n",
        "loss_fn = create_loss()\n",
        "for t in range(epochs):\n",
        "    print(f\"Epoch {t+1}\\n-------------------------------\")\n",
        "    perform_one_epoch(train_dataloader, model, loss_fn, optimizer)\n",
        "    test(test_dataloader, model, loss_fn)\n",
        "print(\"Done!\")"
      ]
    },
    {
      "cell_type": "code",
      "source": [
        ""
      ],
      "metadata": {
        "id": "5UzkCGbnBe9T"
      },
      "execution_count": null,
      "outputs": []
    }
  ]
}